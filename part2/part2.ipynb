{
 "cells": [
  {
   "cell_type": "markdown",
   "id": "baa2b21d",
   "metadata": {},
   "source": [
    "# Week 2 Tasks Sub-list 2\n",
    "Student Name: Zhangli Wang  "
   ]
  },
  {
   "cell_type": "code",
   "execution_count": 1,
   "id": "8cf99b23",
   "metadata": {},
   "outputs": [],
   "source": [
    "# packages\n",
    "import pandas as pd\n",
    "import numpy as np\n",
    "import datetime\n",
    "import matplotlib.pyplot as plt\n",
    "from matplotlib.pyplot import MultipleLocator"
   ]
  },
  {
   "cell_type": "code",
   "execution_count": 2,
   "id": "01c2b899",
   "metadata": {},
   "outputs": [],
   "source": [
    "# Read dataset\n",
    "df = pd.read_csv('./Datasets/rawpvr_2018-02-01_28d_1083 TueFri.csv')"
   ]
  },
  {
   "cell_type": "markdown",
   "id": "f4cd2c8a",
   "metadata": {},
   "source": [
    "Explaination:\\\n",
    "Read the original csv file 'rawpvr_2018-02-01_28d_1083 TueFri.csv' into a dataframe."
   ]
  },
  {
   "cell_type": "code",
   "execution_count": 3,
   "id": "9a738fce",
   "metadata": {},
   "outputs": [],
   "source": [
    "## update the columns 'Flags' and 'Flag Text'\n",
    "\n",
    "# slice to acquire the 'Date' column\n",
    "date = df.loc[:, 'Date']\n",
    "\n",
    "# type conversion: string > timestamp\n",
    "date = pd.to_datetime(date)\n",
    "\n",
    "# calculate days of the week\n",
    "days_of_week = [item.dayofweek for item in date]\n",
    "# type conversion: list > series\n",
    "days_of_week = pd.Series(np.array(days_of_week).T)\n",
    "\n",
    "# update the column 'Flags' in the original dataframe\n",
    "df.loc[:, 'Flags'] = days_of_week.map(lambda x: x+1, na_action='ignore')\n",
    "\n",
    "# update the column 'Flag Text' in the original dataframe\n",
    "df.loc[:, 'Flag Text'] = days_of_week.map(lambda x: 'Tuesday' if x == 1 else ('Friday' if x == 4 else ''), na_action='ignore')"
   ]
  },
  {
   "cell_type": "markdown",
   "id": "0c22c1e7",
   "metadata": {},
   "source": [
    "*Explanation*:\\\n",
    "Perform executions to the dataset similar to those I did in the Task1A, which is updating columns `Flag` and `Flag Text` with the day of week information, as we need to filter out all Tuesdays of the week. Besides, this data preparation is also necessary for solving future tasks."
   ]
  },
  {
   "cell_type": "markdown",
   "id": "245fec18",
   "metadata": {},
   "source": [
    "## Task2\n",
    "**Task**:\\\n",
    "Provide a simple profile of the hourly traffic volume of the North lanes (considering \n",
    "all the North lanes together) of site 1083 using the following descriptive data \n",
    "summarization measures and focusing only on Tuesdays between 09:00 am and \n",
    "10:00 am [exclusive]: Range, 1st Quartile, 2nd Quartile, 3rd Quartile, Interquartile \n",
    "range. "
   ]
  },
  {
   "cell_type": "code",
   "execution_count": 4,
   "id": "7f0751ad",
   "metadata": {},
   "outputs": [],
   "source": [
    "# filter all instances with Tuesday and the north direction\n",
    "df2 = df.loc[(df['Flags'] == 2) & (df['Direction Name'] == 'North')]\n",
    "\n",
    "# transform the type of data in the 'Date' column of the dataset: string > timestamp > datetime.time\n",
    "df2 = df2.assign(Time = pd.to_datetime(df2['Date']).dt.time)\n",
    "df2 = df2.assign(DateWOTime = pd.to_datetime(df2['Date']).dt.date)\n",
    "\n",
    "# filter all instances with the time being between 09:00 and 10:00 [exclusive]\n",
    "start_time = datetime.time(9, 0, 0)\n",
    "end_time = datetime.time(10, 0, 0)\n",
    "df2 = df2.loc[(df2['Time'] >= start_time) & (df2['Time'] < end_time)]"
   ]
  },
  {
   "cell_type": "markdown",
   "id": "f764556c",
   "metadata": {},
   "source": [
    "*Explanation*:\n",
    "In this code block, the main objective is to filter the dataset according to the restrictions required and add new columns about time for time comparision in the following. For filtering, the codes\n",
    "```python\n",
    "# filter all instances with Tuesday and the north direction\n",
    "df2 = df.loc[(df['Flags'] == 2) & (df['Direction Name'] == 'North')]\n",
    "```\n",
    "and\n",
    "```python\n",
    "# filter all instances with the time being between 09:00 and 10:00 [exclusive]\n",
    "start_time = datetime.time(9, 0, 0)\n",
    "end_time = datetime.time(10, 0, 0)\n",
    "df2 = df2.loc[(df2['Time'] >= start_time) & (df2['Time'] < end_time)]\n",
    "```\n",
    "help to filter the dataset with specified day of the week, direction of lane, and time period. Two new columns added are \"Time\" and \"DateWOTime\", which store the values of the time in a day and the date (without the time in a day), respectively. They are used for time comparision."
   ]
  },
  {
   "cell_type": "code",
   "execution_count": 5,
   "id": "946e79b2",
   "metadata": {},
   "outputs": [],
   "source": [
    "# initialize total traffic volumn with regard to dates\n",
    "traffic_volumns = np.array([])\n",
    "\n",
    "# calculate the traffic volumn with regard to dates\n",
    "unique_dates = (df2['DateWOTime']).unique()\n",
    "unique_lanes = df2['Lane'].unique()\n",
    "\n",
    "for unique_date in unique_dates:\n",
    "    # filter with regard to dates and lanes\n",
    "    filtered_df2 = df2.loc[df2['DateWOTime'] == unique_date]\n",
    "\n",
    "    # calculate the total traffic volumn on the filtered dataframe\n",
    "    traffic_volumn = len(filtered_df2.index)\n",
    "\n",
    "    # record the traffic volumn\n",
    "    traffic_volumns = np.append(traffic_volumns, traffic_volumn)\n",
    "\n",
    "# sort the acquired metadata\n",
    "traffic_volumns.sort()"
   ]
  },
  {
   "cell_type": "markdown",
   "id": "4125c468",
   "metadata": {},
   "source": [
    "*Explanation*:\n",
    "In this code block, the total traffic volumns with regard to different dates are calculated. Firstly, the unique dates are identified with the codes\n",
    "```python\n",
    "# calculate the traffic volumn with regard to dates and lanes\n",
    "unique_dates = df2['DateWOTime'].unique()\n",
    "```\n",
    ". Then, they are used for iterately calculate the traffic volumns. In the loop, a filtered dataframe `filtered_df2` is created by filtering the source dataframe with specific date and lane\n",
    "```python\n",
    "        # filter with regard to dates and lanes\n",
    "        filtered_df2 = df2.loc[df2['DateWOTime'] == unique_date]\n",
    "```\n",
    ". Then the number of its rows is calculated, which represents the traffic volumn, and recorded in `traffic_volumns`. It will be used for calculating the five metadata."
   ]
  },
  {
   "cell_type": "code",
   "execution_count": 6,
   "id": "4491ed5e",
   "metadata": {},
   "outputs": [
    {
     "name": "stdout",
     "output_type": "stream",
     "text": [
      "range: 226.0\n",
      "Q1: 2397.25\n",
      "Q2: 2436.5\n",
      "Q3: 2469.5\n",
      "IQR: 72.25\n"
     ]
    }
   ],
   "source": [
    "# calculate range\n",
    "range_ = max(traffic_volumns) - min(traffic_volumns)\n",
    "# calculate Q1\n",
    "Q1 = np.quantile(traffic_volumns, 0.25)\n",
    "# calculate Q2\n",
    "Q2 = np.quantile(traffic_volumns, 0.5)\n",
    "# calculate Q3\n",
    "Q3 = np.quantile(traffic_volumns, 0.75)\n",
    "# calculate interquartile range\n",
    "IQR = Q3 - Q1\n",
    "print('range: '+ str(range_))\n",
    "print('Q1: '+ str(Q1))\n",
    "print('Q2: '+ str(Q2))\n",
    "print('Q3: '+ str(Q3))\n",
    "print('IQR: '+ str(IQR))"
   ]
  },
  {
   "cell_type": "markdown",
   "id": "5a57cbcd",
   "metadata": {},
   "source": [
    "*Explanation*:\n",
    "In this code block the five metadata are calculated by using the functions of numpy.\\\n",
    "The result is:\n",
    "- Range: 226.0\n",
    "- 1st Quartile: 2397.25\n",
    "- 2nd Quartile: 2436.5\n",
    "- 3rd Quartile: 2469.5\n",
    "- Interquartile Range: 72.25"
   ]
  },
  {
   "cell_type": "markdown",
   "id": "2a57ddfb",
   "metadata": {},
   "source": [
    "### Interpretation of the Results\n",
    "For analysis of the five metadata, range is a simple representation of the variance in the dataset. In this dataset, the median of traffic volumn is 819.0. And compared to the median, the value of range 226.0 is noticeable in the dataset. It means that the traffic volumn on different dates of the month can possibly vary noticeablely. The interquartile range is a measure of statistical dispersion, the value 72.25 means that this dataset has no significant dispersion. The traffic volumns on different dates of the month are similar to each other."
   ]
  },
  {
   "cell_type": "markdown",
   "id": "56cb572f",
   "metadata": {},
   "source": [
    "## Task3\n",
    "**Task**:\\\n",
    "Choose a day of the week, e.g., Tuesday, and use bar plots to visualise the average traffic volume for each hour of the day. To obtain an accurate average traffic volume for a given week day, for example Tuesday, consider all Tuesday records in the file and consider all lanes associated with the North direction, and later (and separately) considering all lanes associated with the South direction. You should generate a separate bar plot for each traffic direction (North and South).   \n",
    "- - -"
   ]
  },
  {
   "cell_type": "markdown",
   "id": "df71a137",
   "metadata": {},
   "source": [
    "**Solution**:"
   ]
  },
  {
   "cell_type": "markdown",
   "id": "8b5a043e",
   "metadata": {},
   "source": [
    "Day of the week of my choice: **Tuesday**."
   ]
  },
  {
   "cell_type": "code",
   "execution_count": 7,
   "id": "9630a742",
   "metadata": {},
   "outputs": [],
   "source": [
    "# acquire direction names from the dataset\n",
    "directions = df['Direction Name'].unique()\n",
    "\n",
    "# filter the dataset with respect that the day of week is Tuesday and the direction is the North/South\n",
    "df1s = dict()\n",
    "for direction in directions:\n",
    "    df1s.update({direction: df.loc[df['Flags'] == 2].loc[df['Direction Name'] == direction]})\n",
    "\n",
    "# transform the type of data in the 'Date' column of the dataset: string > timestamp > datetime.time\n",
    "for df1 in df1s.values():\n",
    "    df1['Time'] = pd.to_datetime(df1['Date']).dt.time"
   ]
  },
  {
   "cell_type": "markdown",
   "id": "8e765de3",
   "metadata": {},
   "source": [
    "*Explanation*:\\\n",
    "The above executions is a process of data preparation for solving task2. Firstly, the directions of lanes are found in the dataset, which is actually either `North` or `South`. It is consistently reffered in the following parts.\n",
    "\n",
    "As the initial operation, I filtered the original dataset by selecting only the rows that the day of week is Tuesday (`.loc[df['Flags'] == 2]`). Then, I divided the dataset into two sets stored in `df1s` by the direction of the lane (`.loc[df['Direction Name'] == direction`, which is actually either `North` or `South`.\n",
    "```python\n",
    "# filter the dataset with respect that the day of week is Tuesday and the direction is the North/South\n",
    "df1s = dict()\n",
    "for direction in directions:\n",
    "    df1s.update({direction: df.loc[df['Flags'] == 2].loc[df['Direction Name'] == direction]})\n",
    "```\n",
    "\\\n",
    "Then I inserted a new column into the intermediate dataframe named `Time` that contains values of time of the day. This process involves data type conversion from `str` to `timestamp` to `datetime.time`, because in the next code block this column will be used for dividing the dataset according to time intervals.\n",
    "```python\n",
    "# transform the type of data in the 'Date' column of the dataset: string > timestamp > datetime.time\n",
    "for df1 in df1s.values():\n",
    "    df1['Time'] = pd.to_datetime(df1['Date']).dt.time\n",
    "```"
   ]
  },
  {
   "cell_type": "code",
   "execution_count": 8,
   "id": "44c52177",
   "metadata": {},
   "outputs": [],
   "source": [
    "# initialize total traffic volumns per hour for North&South directions\n",
    "traffic_volumns = dict()\n",
    "for key in df1s.keys():\n",
    "    traffic_volumns.update({key: list()})\n",
    "\n",
    "# seperate the dataset by each hour of the day and calculate the corresponding traffic volumn\n",
    "start_hours = [datetime.time(i, 0, 0) for i in range(0, 24)]\n",
    "end_hours = [datetime.time(i, 0, 0) for i in range(1, 24)]\n",
    "end_hours.append(datetime.time(23, 59, 59))\n",
    "for key, df1 in df1s.items():\n",
    "    hourly_tvs = list()  # the traffic volumn of each hour\n",
    "    for start_hour, end_hour in zip(start_hours, end_hours):\n",
    "        # filter the dataset with respect that the time is between each one hour interval in a day\n",
    "        hourly_df1 = df1.loc[(df1['Time'] >= start_hour) & (df1['Time'] < end_hour)]\n",
    "        \n",
    "        # calculate the traffic volumn of the time interval\n",
    "        traffic_volumn = len(hourly_df1.index)\n",
    "        \n",
    "        # record the traffic volumn\n",
    "        traffic_volumns[key].append(traffic_volumn)"
   ]
  },
  {
   "cell_type": "markdown",
   "id": "5b859461",
   "metadata": {},
   "source": [
    "*Explanation*:\\\n",
    "In this code block, the overall process is generating the total traffic volumns per hour for both north and south directions. The output is shown below:\n",
    "```python\n",
    "{'South': [651, 371, 310, 319, 482, 1159, 3449, 8060, 8540, 6193, 5608, 6174, 6837, 6998, 7968, 9926, 12005, 11176, 9322, 6407, 4321, 3388, 2451, 1323], \n",
    "'North': [506, 252, 170, 212, 433, 1446, 5040, 11806, 10908, 9721, 7107, 6537, 6795, 6830, 6568, 7221, 9716, 10623, 8486, 5233, 3531, 2595, 1815, 1027]}\n",
    "```\n",
    "For detailed explanation, the initial step is to initialize the output variable. I created a dictionary for storing the key-value pairs of the direction and the total traffic volumns per hour where the initial values are empty lists for updating later.\\\n",
    "\\\n",
    "Next, I plan to iterate over `df1s` for each time interval such as 00:00-01:00, 01:00-02:00... To accomplish this, a list of starting time `start_hours` and a list of ending time `end_hours` are created and zipped coordinately for deciding the filtering boundaries.To be noticed, the `datetime.time` does not allow to have 24:00 which is conflicting the 00:00, so I altered the final boundary to 23:59.\n",
    "```python\n",
    "start_hours = [datetime.time(i, 0, 0) for i in range(0, 24)]\n",
    "end_hours = [datetime.time(i, 0, 0) for i in range(1, 24)]\n",
    "end_hours.append(datetime.time(23, 59, 59))\n",
    "```\n",
    "\\\n",
    "Now, the iteration can start. For each of the directions, the program performs an iteration of boundary checking about the one-hour time intervals in a day. In each iteration, a temperary dataframe `hourly_df` is created by filtering the dataframe with the boundary checking conditions.\n",
    "```python\n",
    "hourly_df1 = df1.loc[(df1['Time'] >= start_hour) & (df1['Time'] < end_hour)]\n",
    "```\n",
    "Then I sum the number of rows of `hourly_df` which means the total traffic volumn of the hour and append this sum to the output variable `traffic_volumns`.\n",
    "```python\n",
    "# calculate the traffic volumn of the time interval\n",
    "traffic_volumn = len(hourly_df1.index)\n",
    "\n",
    "# record the traffic volumn\n",
    "traffic_volumns[key].append(traffic_volumn)\n",
    "```\n",
    "After all these iterations are done, the values inside `traffic_volumns` should be the output of this code block. In the next code block I use this output to draw bar plots."
   ]
  },
  {
   "cell_type": "code",
   "execution_count": 9,
   "id": "b9d04129",
   "metadata": {},
   "outputs": [
    {
     "data": {
      "image/png": "[encoded data removed]",
      "text/plain": [
       "<Figure size 1440x720 with 2 Axes>"
      ]
     },
     "metadata": {
      "needs_background": "light"
     },
     "output_type": "display_data"
    }
   ],
   "source": [
    "## draw bar plots for the two directions\n",
    "\n",
    "# create a figure with two subplots\n",
    "fig, (ax1, ax2) = plt.subplots(2, 1, figsize=(20,10))\n",
    "\n",
    "# initialize values of axes (south)\n",
    "X = [i for i in range(0, 24)]\n",
    "Y = traffic_volumns['South']\n",
    "# load data into axes (south)\n",
    "ax1.bar(X, Y)\n",
    "ax1.set_title('South Direction Traffic Volumn in Tuesday')\n",
    "ax1.set_xlabel(\"Hours\")\n",
    "ax1.set_ylabel(\"Traffic Volumn\")\n",
    "ax1.xaxis.set_major_locator(MultipleLocator(1))\n",
    "\n",
    "# initialize values of axes (north)\n",
    "X = [i for i in range(0, 24)]\n",
    "Y = traffic_volumns['North']\n",
    "# load data into axes (north)\n",
    "ax2.bar(X, Y)\n",
    "ax2.set_title('North Direction Traffic Volumn in Tuesday')\n",
    "ax2.set_xlabel(\"Hours\")\n",
    "ax2.set_ylabel(\"Traffic Volumn\")\n",
    "ax2.xaxis.set_major_locator(MultipleLocator(1))\n",
    "\n",
    "# draw figure\n",
    "plt.show()"
   ]
  },
  {
   "cell_type": "markdown",
   "id": "d1718398",
   "metadata": {},
   "source": [
    "*Explanation*:\n",
    "In this code block two bar plots are drawn as the desired output of this task, which are the bar plot of south direction traffic volumn per hour in Tuesday and the bar plot of north direction traffic volumn per hour in Tuesday. I use `Matplotlib` to draw the chart with two subplots.\\\n",
    "\\\n",
    "Firstly, I specified the content of the axes. Content of the x axis is labels of hour of the day, content of the y axis is the traffic volumn of the hour (`traffic_volumns['South']` or `traffic_volumns['North']`. Then attributes of the subplots are specified. Finally the figure is drawn.\n",
    "```python\n",
    "# initialize values of axes (south)\n",
    "X = [i for i in range(0, 24)]\n",
    "Y = traffic_volumns['South']\n",
    "# load data into axes (south)\n",
    "ax1.bar(X, Y)\n",
    "ax1.set_title('South Direction Traffic Volumn in a Day')\n",
    "ax1.set_xlabel(\"Hours\")\n",
    "ax1.set_ylabel(\"Traffic Volumn\")\n",
    "ax1.xaxis.set_major_locator(MultipleLocator(1))\n",
    "\n",
    "# initialize values of axes (north)\n",
    "X = [i for i in range(0, 24)]\n",
    "Y = traffic_volumns['North']\n",
    "# load data into axes (north)\n",
    "ax2.bar(X, Y)\n",
    "ax2.set_title('North Direction Traffic Volumn in a Day')\n",
    "ax2.set_xlabel(\"Hours\")\n",
    "ax2.set_ylabel(\"Traffic Volumn\")\n",
    "ax2.xaxis.set_major_locator(MultipleLocator(1))\n",
    "```\n",
    "\\\n",
    "*Interpretation of the result:*\n",
    "The final output is bar charts visualizing the data of traffic volumns of each one-hour time interval in the Tuesday, regarding to the lanes with north direction or lanes with south direction. Information can be extracted from the two charts that the data demonstrate the variations of traffic volumn with respect to different time periods in Tuesday for specific lanes. This can indicate what time in Tuesday is rush hours and in what time commuting is low.\\\n",
    "\\\n",
    "From the charts, we can extract the information that for both north lanes and south lanes, the rush hours are the time in the morning and the afternoon. It is reasonable because people usually drive between home and their companies in the edges of their working hours. In the daytime the traffic volumns are usually high for at least 6000 vehicles/hour as people do daily activities in the daytime. In the night time the traffic volumns are very low because people usually stay indoors at night. By comparing the two charts, we can tell the difference that the morning commuting in south lanes is lower than north lanes and the afternoon commuting is higher. I guess this is because that in the south it tends to have more residences and in the north it tends to have more workplaces."
   ]
  },
  {
   "cell_type": "markdown",
   "id": "e9206dde",
   "metadata": {},
   "source": [
    "## Task4\n",
    "**Task**:\n",
    "Develop the same solution for Task 3 described above using a second technology of your choice (a tool or PL), which must be different to the technology you used to develop Task 3 for the first time. You can copy and paste here and/or make simple adaptations to the comments and step-by-step description of the solution you provided for Task 3.\n",
    "- - -"
   ]
  },
  {
   "cell_type": "markdown",
   "id": "9bcb5e58",
   "metadata": {},
   "source": [
    "**Solution**:"
   ]
  },
  {
   "cell_type": "markdown",
   "id": "6ece9b8b",
   "metadata": {},
   "source": [
    "I use **Microsoft Excel** as the tool for completing this task. Day of the week of my choice: **Tuesday**."
   ]
  },
  {
   "cell_type": "markdown",
   "id": "edaca61a",
   "metadata": {},
   "source": [
    "1. \n",
    "Open the original dataset in Excel.\n",
    "![img](./images/./img1.jpg)"
   ]
  },
  {
   "cell_type": "markdown",
   "id": "8c58c9ad",
   "metadata": {},
   "source": [
    "2. \n",
    "For the entire column of \"Flag Text\", apply the function\n",
    "```excel\n",
    "=IF(ISBLANK(A2), \"\", TEXT(A2, \"dddd\"))\n",
    "```\n",
    ", which calculates days of the week regarding the \"Date\" column.\n",
    "![img2](img2.jpg)"
   ]
  },
  {
   "cell_type": "markdown",
   "id": "eba30972",
   "metadata": {},
   "source": [
    "3. \n",
    "Then we need to sort all rows according to time of the day. Firstly we need to add a new column \"Time\" that stores the corresponding time in the \"Date\" column, apply this function \n",
    "```excel\n",
    "=IF(ISBLANK(A2), \"\", TIME(HOUR(A2), MINUTE(A2), SECOND(A2)))\n",
    "```\n",
    "to the column to extract hour, minute, and second from the corresponding date. Then, update the type of the column from default \"General\" to \"Time\". Finally, we sort the table according to this column by \"Sort smallest to largest\".\n",
    "![img](./images/img3.jpg)"
   ]
  },
  {
   "cell_type": "markdown",
   "id": "2122a317",
   "metadata": {},
   "source": [
    "4. \n",
    "Select the entire table, press <kbd>Ctrl</kbd>+<kbd>Shift</kbd>+<kbd>L</kbd> to initialize the filters. Then we can apply filtering to the table.\n",
    "![img](./images/img4.jpg)"
   ]
  },
  {
   "cell_type": "markdown",
   "id": "564706a6",
   "metadata": {},
   "source": [
    "5. \n",
    "To tag the time slots, we create a new column named \"Time Period\" for storing the time period in the format of \"%startHour%-%endHour%\". Firstly, we should get the starting hour. This is achieved by inserting a new column \"Start Hour\" and applying the function\n",
    "```excel\n",
    "=IF(ISBLANK(A2), \"\", HOUR(A2))\n",
    "```\n",
    "to the entire column.\n",
    "![img](./images/img5.jpg)\n",
    "Then in the \"Time Period\" column, we apply this function\n",
    "```excel\n",
    "=IF(ISBLANK(A2), \"\", CONCATENATE(TEXT(L2,\"0\"), \"-\", TEXT(L2+1, \"0\")))\n",
    "```\n",
    "![img](./images/img6.jpg)\n",
    "to get the textual time periods of the day."
   ]
  },
  {
   "cell_type": "markdown",
   "id": "d5bc5ac7",
   "metadata": {},
   "source": [
    "6. \n",
    "Then, we need to filter all the instances of Tuesday, and the north direction for drawing the bar chart correctly.\n",
    "![img](./images/img7.jpg)\n",
    "![img](./images/img8.jpg)\n",
    "Then apply the filtering operations."
   ]
  },
  {
   "cell_type": "markdown",
   "id": "cc92a229",
   "metadata": {},
   "source": [
    "7. \n",
    "Notice that in this code block I created a new sheet named \"Count Traffic Volumn\" for storing the results of the functions in this code block.\n",
    "Name of columns:\n",
    "- \"A\": \"Time Period\",\n",
    "- \"B\": \"Traffic Volumn Count\",\n",
    "- \"C\": \"Traffic Volumn Count (Only Visible Rows)\",\n",
    "- \"D\": \"Traffic Volumn Count - South\",\n",
    "- \"E\": \"Traffic Volumn Count - North\".\\\n",
    "Now we can count the number of instances in \"Time Period\" to extract the information about hourly traffic volumn with specified constraints. To draw the bar chart, we should prepare the axes. For the x-axis, in the column \"A\" of the created sheet, apply this function\n",
    "```excel\n",
    "=UNIQUE(task4!M:M)\n",
    "```\n",
    "![img](./images/img9.jpg)\n",
    "to extract all unique labels.\n",
    "Then we want to count hourly traffic volumn in the column \"B\" using this function\n",
    "```excel\n",
    "=COUNTIF(task4!M:M, A2)\n",
    "```\n",
    ", but in practice, this function does not return the expected result. This is because when we have applied filtering and hiden rows that are filtered, the function still select all the rows as its input regardless of filtering.\n",
    "So I have to alter to this function\n",
    "```excel\n",
    "=SUMPRODUCT(SUBTOTAL(3,OFFSET(task4!M:M,ROW(task4!M:M)-MIN(ROW(task4!M:M)),,1))*(task4!M:M='Count Traffic Volumn'!A2))\n",
    "```\n",
    "learned from [this discussion board](https://www.mrexcel.com/board/threads/countif-visible-cells-in-filter-mode.56984/) to conditionally filter values only on visible rows. So for applying filtering on north direction, the values are calculated and copied to the column \"D\" by plain text.\n",
    "![img](./images/img10.jpg)\n",
    "Then similarly, the filtering is then applied on the south direction and the field is automatically updated for calculating the values for south lanes. Then the values are again copied to the column \"E\" by plain text.\n",
    "![img](./images/img11.jpg)"
   ]
  },
  {
   "attachments": {
    "%E5%9B%BE%E7%89%87-2.png": {
     "image/png": "[encoded data removed]"
    },
    "%E5%9B%BE%E7%89%87.png": {
     "image/png": "[encoded data removed]"
    }
   },
   "cell_type": "markdown",
   "id": "ad2459f5",
   "metadata": {},
   "source": [
    "8. \n",
    "Now we can use column \"D\" and column \"E\" to draw the two bar charts by simply clicking > Inesert > Charts > Clustered Columns. Please check out the images attached for the results.\n",
    "![%E5%9B%BE%E7%89%87.png](attachment:%E5%9B%BE%E7%89%87.png)\n",
    "![%E5%9B%BE%E7%89%87-2.png](attachment:%E5%9B%BE%E7%89%87-2.png)"
   ]
  },
  {
   "cell_type": "markdown",
   "id": "59017cd3",
   "metadata": {},
   "source": [
    "### Comparision of Python and Excel for Solving This Coursework\n",
    "Both of the two tools have the ability to solve this coursework, but the logics of their operations vary greatly.\n",
    "For python, one advantage is that the process of manipulation is more interpretable and reviewable for a programmer. And using Jupyter Notebook to program this coursework can help me to divide operations into stages and add explanation everywhere I want. But the disadvantage is that bugs can possibly occur everywhere in my codes.\n",
    "\n",
    "For Excel, the advantage is that the interface is intuitive and can display the data in a proper tabular structure and the drawing of charts is also very convenient. And for manipulating an entire column, Excel can help me with it with its tools conveniently rather than coding for loops manually. But the disadvantages are also significant. Because most of my manipulations are functions, their dependencies result in everytime I change a part of the Excel file, all the functions are re-calculated, which is time consuming. The other disadvantage is that its filters cannot function well with functions so that I meet the \"visible-rows problem\" mentioned before that costs me a lot of time to solve it.\n",
    "\n",
    "Overall, I like coding with python using jupyter notebook better, because I like to read written codes and write new codes alternately."
   ]
  }
 ],
 "metadata": {
  "kernelspec": {
   "display_name": "Python 3",
   "language": "python",
   "name": "python3"
  },
  "language_info": {
   "codemirror_mode": {
    "name": "ipython",
    "version": 3
   },
   "file_extension": ".py",
   "mimetype": "text/x-python",
   "name": "python",
   "nbconvert_exporter": "python",
   "pygments_lexer": "ipython3",
   "version": "3.6.12"
  }
 },
 "nbformat": 4,
 "nbformat_minor": 5
}
